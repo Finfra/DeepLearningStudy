{
 "cells": [
  {
   "cell_type": "code",
   "execution_count": null,
   "metadata": {
    "colab": {},
    "colab_type": "code",
    "id": "lJBqUIx8OHVc"
   },
   "outputs": [],
   "source": [
    "!pip uninstall -y scipy\n",
    "!pip install scipy==1.1.0\n",
    "!cd /content\n",
    "!rm -rf neural-style\n",
    "!git clone https://github.com/anishathalye/neural-style\n",
    "%cd /content/neural-style\n",
    "!wget http://www.vlfeat.org/matconvnet/models/imagenet-vgg-verydeep-19.mat\n",
    "\n",
    "!python neural_style.py --content /content/neural-style/examples/2-content.jpg --styles /content/neural-style/examples/2-style1.jpg --output /content/neural-style/out.jpg\n",
    "\n",
    "import cv2\n",
    "import matplotlib.pyplot as plt\n",
    "img=cv2.imread('out.jpg')\n",
    "plt.imshow(img)\n",
    "plt.show()\n",
    "\n",
    "\n"
   ]
  },
  {
   "cell_type": "code",
   "execution_count": null,
   "metadata": {},
   "outputs": [],
   "source": []
  }
 ],
 "metadata": {
  "accelerator": "GPU",
  "colab": {
   "authorship_tag": "ABX9TyNH+tRizt8leeclpvCpaCbP",
   "collapsed_sections": [],
   "name": "NeuralStyle.ipynb",
   "provenance": []
  },
  "kernelspec": {
   "display_name": "Python 3",
   "language": "python",
   "name": "python3"
  },
  "language_info": {
   "codemirror_mode": {
    "name": "ipython",
    "version": 3
   },
   "file_extension": ".py",
   "mimetype": "text/x-python",
   "name": "python",
   "nbconvert_exporter": "python",
   "pygments_lexer": "ipython3",
   "version": "3.6.9"
  }
 },
 "nbformat": 4,
 "nbformat_minor": 1
}
